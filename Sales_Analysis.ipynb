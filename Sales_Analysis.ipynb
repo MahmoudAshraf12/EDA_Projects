{
 "cells": [
  {
   "cell_type": "markdown",
   "metadata": {},
   "source": [
    "# SALES ANALYSIS"
   ]
  },
  {
   "cell_type": "code",
   "execution_count": 2,
   "metadata": {},
   "outputs": [],
   "source": [
    "import pandas as pd\n",
    "import numpy as np\n",
    "import matplotlib.pyplot as plt\n",
    "import seaborn as sns"
   ]
  },
  {
   "cell_type": "code",
   "execution_count": 4,
   "metadata": {},
   "outputs": [],
   "source": [
    "sales_df = pd.read_excel('data/superstore_sales.xlsx')"
   ]
  },
  {
   "cell_type": "code",
   "execution_count": 5,
   "metadata": {},
   "outputs": [
    {
     "data": {
      "text/html": [
       "<div>\n",
       "<style scoped>\n",
       "    .dataframe tbody tr th:only-of-type {\n",
       "        vertical-align: middle;\n",
       "    }\n",
       "\n",
       "    .dataframe tbody tr th {\n",
       "        vertical-align: top;\n",
       "    }\n",
       "\n",
       "    .dataframe thead th {\n",
       "        text-align: right;\n",
       "    }\n",
       "</style>\n",
       "<table border=\"1\" class=\"dataframe\">\n",
       "  <thead>\n",
       "    <tr style=\"text-align: right;\">\n",
       "      <th></th>\n",
       "      <th>order_id</th>\n",
       "      <th>order_date</th>\n",
       "      <th>ship_date</th>\n",
       "      <th>ship_mode</th>\n",
       "      <th>customer_name</th>\n",
       "      <th>segment</th>\n",
       "      <th>state</th>\n",
       "      <th>country</th>\n",
       "      <th>market</th>\n",
       "      <th>region</th>\n",
       "      <th>...</th>\n",
       "      <th>category</th>\n",
       "      <th>sub_category</th>\n",
       "      <th>product_name</th>\n",
       "      <th>sales</th>\n",
       "      <th>quantity</th>\n",
       "      <th>discount</th>\n",
       "      <th>profit</th>\n",
       "      <th>shipping_cost</th>\n",
       "      <th>order_priority</th>\n",
       "      <th>year</th>\n",
       "    </tr>\n",
       "  </thead>\n",
       "  <tbody>\n",
       "    <tr>\n",
       "      <th>0</th>\n",
       "      <td>AG-2011-2040</td>\n",
       "      <td>2011-01-01</td>\n",
       "      <td>2011-01-06</td>\n",
       "      <td>Standard Class</td>\n",
       "      <td>Toby Braunhardt</td>\n",
       "      <td>Consumer</td>\n",
       "      <td>Constantine</td>\n",
       "      <td>Algeria</td>\n",
       "      <td>Africa</td>\n",
       "      <td>Africa</td>\n",
       "      <td>...</td>\n",
       "      <td>Office Supplies</td>\n",
       "      <td>Storage</td>\n",
       "      <td>Tenex Lockers, Blue</td>\n",
       "      <td>408.300</td>\n",
       "      <td>2</td>\n",
       "      <td>0.0</td>\n",
       "      <td>106.1400</td>\n",
       "      <td>35.460</td>\n",
       "      <td>Medium</td>\n",
       "      <td>2011</td>\n",
       "    </tr>\n",
       "    <tr>\n",
       "      <th>1</th>\n",
       "      <td>IN-2011-47883</td>\n",
       "      <td>2011-01-01</td>\n",
       "      <td>2011-01-08</td>\n",
       "      <td>Standard Class</td>\n",
       "      <td>Joseph Holt</td>\n",
       "      <td>Consumer</td>\n",
       "      <td>New South Wales</td>\n",
       "      <td>Australia</td>\n",
       "      <td>APAC</td>\n",
       "      <td>Oceania</td>\n",
       "      <td>...</td>\n",
       "      <td>Office Supplies</td>\n",
       "      <td>Supplies</td>\n",
       "      <td>Acme Trimmer, High Speed</td>\n",
       "      <td>120.366</td>\n",
       "      <td>3</td>\n",
       "      <td>0.1</td>\n",
       "      <td>36.0360</td>\n",
       "      <td>9.720</td>\n",
       "      <td>Medium</td>\n",
       "      <td>2011</td>\n",
       "    </tr>\n",
       "    <tr>\n",
       "      <th>2</th>\n",
       "      <td>HU-2011-1220</td>\n",
       "      <td>2011-01-01</td>\n",
       "      <td>2011-01-05</td>\n",
       "      <td>Second Class</td>\n",
       "      <td>Annie Thurman</td>\n",
       "      <td>Consumer</td>\n",
       "      <td>Budapest</td>\n",
       "      <td>Hungary</td>\n",
       "      <td>EMEA</td>\n",
       "      <td>EMEA</td>\n",
       "      <td>...</td>\n",
       "      <td>Office Supplies</td>\n",
       "      <td>Storage</td>\n",
       "      <td>Tenex Box, Single Width</td>\n",
       "      <td>66.120</td>\n",
       "      <td>4</td>\n",
       "      <td>0.0</td>\n",
       "      <td>29.6400</td>\n",
       "      <td>8.170</td>\n",
       "      <td>High</td>\n",
       "      <td>2011</td>\n",
       "    </tr>\n",
       "    <tr>\n",
       "      <th>3</th>\n",
       "      <td>IT-2011-3647632</td>\n",
       "      <td>2011-01-01</td>\n",
       "      <td>2011-01-05</td>\n",
       "      <td>Second Class</td>\n",
       "      <td>Eugene Moren</td>\n",
       "      <td>Home Office</td>\n",
       "      <td>Stockholm</td>\n",
       "      <td>Sweden</td>\n",
       "      <td>EU</td>\n",
       "      <td>North</td>\n",
       "      <td>...</td>\n",
       "      <td>Office Supplies</td>\n",
       "      <td>Paper</td>\n",
       "      <td>Enermax Note Cards, Premium</td>\n",
       "      <td>44.865</td>\n",
       "      <td>3</td>\n",
       "      <td>0.5</td>\n",
       "      <td>-26.0550</td>\n",
       "      <td>4.820</td>\n",
       "      <td>High</td>\n",
       "      <td>2011</td>\n",
       "    </tr>\n",
       "    <tr>\n",
       "      <th>4</th>\n",
       "      <td>IN-2011-47883</td>\n",
       "      <td>2011-01-01</td>\n",
       "      <td>2011-01-08</td>\n",
       "      <td>Standard Class</td>\n",
       "      <td>Joseph Holt</td>\n",
       "      <td>Consumer</td>\n",
       "      <td>New South Wales</td>\n",
       "      <td>Australia</td>\n",
       "      <td>APAC</td>\n",
       "      <td>Oceania</td>\n",
       "      <td>...</td>\n",
       "      <td>Furniture</td>\n",
       "      <td>Furnishings</td>\n",
       "      <td>Eldon Light Bulb, Duo Pack</td>\n",
       "      <td>113.670</td>\n",
       "      <td>5</td>\n",
       "      <td>0.1</td>\n",
       "      <td>37.7700</td>\n",
       "      <td>4.700</td>\n",
       "      <td>Medium</td>\n",
       "      <td>2011</td>\n",
       "    </tr>\n",
       "    <tr>\n",
       "      <th>...</th>\n",
       "      <td>...</td>\n",
       "      <td>...</td>\n",
       "      <td>...</td>\n",
       "      <td>...</td>\n",
       "      <td>...</td>\n",
       "      <td>...</td>\n",
       "      <td>...</td>\n",
       "      <td>...</td>\n",
       "      <td>...</td>\n",
       "      <td>...</td>\n",
       "      <td>...</td>\n",
       "      <td>...</td>\n",
       "      <td>...</td>\n",
       "      <td>...</td>\n",
       "      <td>...</td>\n",
       "      <td>...</td>\n",
       "      <td>...</td>\n",
       "      <td>...</td>\n",
       "      <td>...</td>\n",
       "      <td>...</td>\n",
       "      <td>...</td>\n",
       "    </tr>\n",
       "    <tr>\n",
       "      <th>51285</th>\n",
       "      <td>CA-2014-115427</td>\n",
       "      <td>2014-12-31</td>\n",
       "      <td>2015-01-04</td>\n",
       "      <td>Standard Class</td>\n",
       "      <td>Erica Bern</td>\n",
       "      <td>Corporate</td>\n",
       "      <td>California</td>\n",
       "      <td>United States</td>\n",
       "      <td>US</td>\n",
       "      <td>West</td>\n",
       "      <td>...</td>\n",
       "      <td>Office Supplies</td>\n",
       "      <td>Binders</td>\n",
       "      <td>Cardinal Slant-D Ring Binder, Heavy Gauge Vinyl</td>\n",
       "      <td>13.904</td>\n",
       "      <td>2</td>\n",
       "      <td>0.2</td>\n",
       "      <td>4.5188</td>\n",
       "      <td>0.890</td>\n",
       "      <td>Medium</td>\n",
       "      <td>2014</td>\n",
       "    </tr>\n",
       "    <tr>\n",
       "      <th>51286</th>\n",
       "      <td>MO-2014-2560</td>\n",
       "      <td>2014-12-31</td>\n",
       "      <td>2015-01-05</td>\n",
       "      <td>Standard Class</td>\n",
       "      <td>Liz Preis</td>\n",
       "      <td>Consumer</td>\n",
       "      <td>Souss-Massa-Draâ</td>\n",
       "      <td>Morocco</td>\n",
       "      <td>Africa</td>\n",
       "      <td>Africa</td>\n",
       "      <td>...</td>\n",
       "      <td>Office Supplies</td>\n",
       "      <td>Binders</td>\n",
       "      <td>Wilson Jones Hole Reinforcements, Clear</td>\n",
       "      <td>3.990</td>\n",
       "      <td>1</td>\n",
       "      <td>0.0</td>\n",
       "      <td>0.4200</td>\n",
       "      <td>0.490</td>\n",
       "      <td>Medium</td>\n",
       "      <td>2014</td>\n",
       "    </tr>\n",
       "    <tr>\n",
       "      <th>51287</th>\n",
       "      <td>MX-2014-110527</td>\n",
       "      <td>2014-12-31</td>\n",
       "      <td>2015-01-02</td>\n",
       "      <td>Second Class</td>\n",
       "      <td>Charlotte Melton</td>\n",
       "      <td>Consumer</td>\n",
       "      <td>Managua</td>\n",
       "      <td>Nicaragua</td>\n",
       "      <td>LATAM</td>\n",
       "      <td>Central</td>\n",
       "      <td>...</td>\n",
       "      <td>Office Supplies</td>\n",
       "      <td>Labels</td>\n",
       "      <td>Hon Color Coded Labels, 5000 Label Set</td>\n",
       "      <td>26.400</td>\n",
       "      <td>3</td>\n",
       "      <td>0.0</td>\n",
       "      <td>12.3600</td>\n",
       "      <td>0.350</td>\n",
       "      <td>Medium</td>\n",
       "      <td>2014</td>\n",
       "    </tr>\n",
       "    <tr>\n",
       "      <th>51288</th>\n",
       "      <td>MX-2014-114783</td>\n",
       "      <td>2014-12-31</td>\n",
       "      <td>2015-01-06</td>\n",
       "      <td>Standard Class</td>\n",
       "      <td>Tamara Dahlen</td>\n",
       "      <td>Consumer</td>\n",
       "      <td>Chihuahua</td>\n",
       "      <td>Mexico</td>\n",
       "      <td>LATAM</td>\n",
       "      <td>North</td>\n",
       "      <td>...</td>\n",
       "      <td>Office Supplies</td>\n",
       "      <td>Labels</td>\n",
       "      <td>Hon Legal Exhibit Labels, Alphabetical</td>\n",
       "      <td>7.120</td>\n",
       "      <td>1</td>\n",
       "      <td>0.0</td>\n",
       "      <td>0.5600</td>\n",
       "      <td>0.199</td>\n",
       "      <td>Medium</td>\n",
       "      <td>2014</td>\n",
       "    </tr>\n",
       "    <tr>\n",
       "      <th>51289</th>\n",
       "      <td>CA-2014-156720</td>\n",
       "      <td>2014-12-31</td>\n",
       "      <td>2015-01-04</td>\n",
       "      <td>Standard Class</td>\n",
       "      <td>Jill Matthias</td>\n",
       "      <td>Consumer</td>\n",
       "      <td>Colorado</td>\n",
       "      <td>United States</td>\n",
       "      <td>US</td>\n",
       "      <td>West</td>\n",
       "      <td>...</td>\n",
       "      <td>Office Supplies</td>\n",
       "      <td>Fasteners</td>\n",
       "      <td>Bagged Rubber Bands</td>\n",
       "      <td>3.024</td>\n",
       "      <td>3</td>\n",
       "      <td>0.2</td>\n",
       "      <td>-0.6048</td>\n",
       "      <td>0.170</td>\n",
       "      <td>Medium</td>\n",
       "      <td>2014</td>\n",
       "    </tr>\n",
       "  </tbody>\n",
       "</table>\n",
       "<p>51290 rows × 21 columns</p>\n",
       "</div>"
      ],
      "text/plain": [
       "              order_id order_date  ship_date       ship_mode  \\\n",
       "0         AG-2011-2040 2011-01-01 2011-01-06  Standard Class   \n",
       "1        IN-2011-47883 2011-01-01 2011-01-08  Standard Class   \n",
       "2         HU-2011-1220 2011-01-01 2011-01-05    Second Class   \n",
       "3      IT-2011-3647632 2011-01-01 2011-01-05    Second Class   \n",
       "4        IN-2011-47883 2011-01-01 2011-01-08  Standard Class   \n",
       "...                ...        ...        ...             ...   \n",
       "51285   CA-2014-115427 2014-12-31 2015-01-04  Standard Class   \n",
       "51286     MO-2014-2560 2014-12-31 2015-01-05  Standard Class   \n",
       "51287   MX-2014-110527 2014-12-31 2015-01-02    Second Class   \n",
       "51288   MX-2014-114783 2014-12-31 2015-01-06  Standard Class   \n",
       "51289   CA-2014-156720 2014-12-31 2015-01-04  Standard Class   \n",
       "\n",
       "          customer_name      segment             state        country  market  \\\n",
       "0       Toby Braunhardt     Consumer       Constantine        Algeria  Africa   \n",
       "1           Joseph Holt     Consumer   New South Wales      Australia    APAC   \n",
       "2         Annie Thurman     Consumer          Budapest        Hungary    EMEA   \n",
       "3          Eugene Moren  Home Office         Stockholm         Sweden      EU   \n",
       "4           Joseph Holt     Consumer   New South Wales      Australia    APAC   \n",
       "...                 ...          ...               ...            ...     ...   \n",
       "51285        Erica Bern    Corporate        California  United States      US   \n",
       "51286         Liz Preis     Consumer  Souss-Massa-Draâ        Morocco  Africa   \n",
       "51287  Charlotte Melton     Consumer           Managua      Nicaragua   LATAM   \n",
       "51288     Tamara Dahlen     Consumer         Chihuahua         Mexico   LATAM   \n",
       "51289     Jill Matthias     Consumer          Colorado  United States      US   \n",
       "\n",
       "        region  ...         category sub_category  \\\n",
       "0       Africa  ...  Office Supplies      Storage   \n",
       "1      Oceania  ...  Office Supplies     Supplies   \n",
       "2         EMEA  ...  Office Supplies      Storage   \n",
       "3        North  ...  Office Supplies        Paper   \n",
       "4      Oceania  ...        Furniture  Furnishings   \n",
       "...        ...  ...              ...          ...   \n",
       "51285     West  ...  Office Supplies      Binders   \n",
       "51286   Africa  ...  Office Supplies      Binders   \n",
       "51287  Central  ...  Office Supplies       Labels   \n",
       "51288    North  ...  Office Supplies       Labels   \n",
       "51289     West  ...  Office Supplies    Fasteners   \n",
       "\n",
       "                                          product_name    sales  quantity  \\\n",
       "0                                  Tenex Lockers, Blue  408.300         2   \n",
       "1                             Acme Trimmer, High Speed  120.366         3   \n",
       "2                              Tenex Box, Single Width   66.120         4   \n",
       "3                          Enermax Note Cards, Premium   44.865         3   \n",
       "4                           Eldon Light Bulb, Duo Pack  113.670         5   \n",
       "...                                                ...      ...       ...   \n",
       "51285  Cardinal Slant-D Ring Binder, Heavy Gauge Vinyl   13.904         2   \n",
       "51286          Wilson Jones Hole Reinforcements, Clear    3.990         1   \n",
       "51287           Hon Color Coded Labels, 5000 Label Set   26.400         3   \n",
       "51288           Hon Legal Exhibit Labels, Alphabetical    7.120         1   \n",
       "51289                              Bagged Rubber Bands    3.024         3   \n",
       "\n",
       "       discount    profit  shipping_cost  order_priority  year  \n",
       "0           0.0  106.1400         35.460          Medium  2011  \n",
       "1           0.1   36.0360          9.720          Medium  2011  \n",
       "2           0.0   29.6400          8.170            High  2011  \n",
       "3           0.5  -26.0550          4.820            High  2011  \n",
       "4           0.1   37.7700          4.700          Medium  2011  \n",
       "...         ...       ...            ...             ...   ...  \n",
       "51285       0.2    4.5188          0.890          Medium  2014  \n",
       "51286       0.0    0.4200          0.490          Medium  2014  \n",
       "51287       0.0   12.3600          0.350          Medium  2014  \n",
       "51288       0.0    0.5600          0.199          Medium  2014  \n",
       "51289       0.2   -0.6048          0.170          Medium  2014  \n",
       "\n",
       "[51290 rows x 21 columns]"
      ]
     },
     "execution_count": 5,
     "metadata": {},
     "output_type": "execute_result"
    }
   ],
   "source": [
    "sales_df"
   ]
  },
  {
   "cell_type": "code",
   "execution_count": 6,
   "metadata": {
    "scrolled": false
   },
   "outputs": [
    {
     "name": "stdout",
     "output_type": "stream",
     "text": [
      "<class 'pandas.core.frame.DataFrame'>\n",
      "RangeIndex: 51290 entries, 0 to 51289\n",
      "Data columns (total 21 columns):\n",
      " #   Column          Non-Null Count  Dtype         \n",
      "---  ------          --------------  -----         \n",
      " 0   order_id        51290 non-null  object        \n",
      " 1   order_date      51290 non-null  datetime64[ns]\n",
      " 2   ship_date       51290 non-null  datetime64[ns]\n",
      " 3   ship_mode       51290 non-null  object        \n",
      " 4   customer_name   51290 non-null  object        \n",
      " 5   segment         51290 non-null  object        \n",
      " 6   state           51290 non-null  object        \n",
      " 7   country         51290 non-null  object        \n",
      " 8   market          51290 non-null  object        \n",
      " 9   region          51290 non-null  object        \n",
      " 10  product_id      51290 non-null  object        \n",
      " 11  category        51290 non-null  object        \n",
      " 12  sub_category    51290 non-null  object        \n",
      " 13  product_name    51290 non-null  object        \n",
      " 14  sales           51290 non-null  float64       \n",
      " 15  quantity        51290 non-null  int64         \n",
      " 16  discount        51290 non-null  float64       \n",
      " 17  profit          51290 non-null  float64       \n",
      " 18  shipping_cost   51290 non-null  float64       \n",
      " 19  order_priority  51290 non-null  object        \n",
      " 20  year            51290 non-null  int64         \n",
      "dtypes: datetime64[ns](2), float64(4), int64(2), object(13)\n",
      "memory usage: 8.2+ MB\n"
     ]
    }
   ],
   "source": [
    "sales_df.info()"
   ]
  },
  {
   "cell_type": "code",
   "execution_count": 8,
   "metadata": {},
   "outputs": [
    {
     "data": {
      "text/html": [
       "<div>\n",
       "<style scoped>\n",
       "    .dataframe tbody tr th:only-of-type {\n",
       "        vertical-align: middle;\n",
       "    }\n",
       "\n",
       "    .dataframe tbody tr th {\n",
       "        vertical-align: top;\n",
       "    }\n",
       "\n",
       "    .dataframe thead th {\n",
       "        text-align: right;\n",
       "    }\n",
       "</style>\n",
       "<table border=\"1\" class=\"dataframe\">\n",
       "  <thead>\n",
       "    <tr style=\"text-align: right;\">\n",
       "      <th></th>\n",
       "      <th>sales</th>\n",
       "      <th>quantity</th>\n",
       "      <th>discount</th>\n",
       "      <th>profit</th>\n",
       "      <th>shipping_cost</th>\n",
       "      <th>year</th>\n",
       "    </tr>\n",
       "  </thead>\n",
       "  <tbody>\n",
       "    <tr>\n",
       "      <th>count</th>\n",
       "      <td>51290.000000</td>\n",
       "      <td>51290.000000</td>\n",
       "      <td>51290.000000</td>\n",
       "      <td>51290.000000</td>\n",
       "      <td>51290.000000</td>\n",
       "      <td>51290.000000</td>\n",
       "    </tr>\n",
       "    <tr>\n",
       "      <th>mean</th>\n",
       "      <td>246.490581</td>\n",
       "      <td>3.476545</td>\n",
       "      <td>0.142908</td>\n",
       "      <td>28.641740</td>\n",
       "      <td>26.375818</td>\n",
       "      <td>2012.777208</td>\n",
       "    </tr>\n",
       "    <tr>\n",
       "      <th>std</th>\n",
       "      <td>487.565361</td>\n",
       "      <td>2.278766</td>\n",
       "      <td>0.212280</td>\n",
       "      <td>174.424113</td>\n",
       "      <td>57.296810</td>\n",
       "      <td>1.098931</td>\n",
       "    </tr>\n",
       "    <tr>\n",
       "      <th>min</th>\n",
       "      <td>0.444000</td>\n",
       "      <td>1.000000</td>\n",
       "      <td>0.000000</td>\n",
       "      <td>-6599.978000</td>\n",
       "      <td>0.002000</td>\n",
       "      <td>2011.000000</td>\n",
       "    </tr>\n",
       "    <tr>\n",
       "      <th>25%</th>\n",
       "      <td>30.758625</td>\n",
       "      <td>2.000000</td>\n",
       "      <td>0.000000</td>\n",
       "      <td>0.000000</td>\n",
       "      <td>2.610000</td>\n",
       "      <td>2012.000000</td>\n",
       "    </tr>\n",
       "    <tr>\n",
       "      <th>50%</th>\n",
       "      <td>85.053000</td>\n",
       "      <td>3.000000</td>\n",
       "      <td>0.000000</td>\n",
       "      <td>9.240000</td>\n",
       "      <td>7.790000</td>\n",
       "      <td>2013.000000</td>\n",
       "    </tr>\n",
       "    <tr>\n",
       "      <th>75%</th>\n",
       "      <td>251.053200</td>\n",
       "      <td>5.000000</td>\n",
       "      <td>0.200000</td>\n",
       "      <td>36.810000</td>\n",
       "      <td>24.450000</td>\n",
       "      <td>2014.000000</td>\n",
       "    </tr>\n",
       "    <tr>\n",
       "      <th>max</th>\n",
       "      <td>22638.480000</td>\n",
       "      <td>14.000000</td>\n",
       "      <td>0.850000</td>\n",
       "      <td>8399.976000</td>\n",
       "      <td>933.570000</td>\n",
       "      <td>2014.000000</td>\n",
       "    </tr>\n",
       "  </tbody>\n",
       "</table>\n",
       "</div>"
      ],
      "text/plain": [
       "              sales      quantity      discount        profit  shipping_cost  \\\n",
       "count  51290.000000  51290.000000  51290.000000  51290.000000   51290.000000   \n",
       "mean     246.490581      3.476545      0.142908     28.641740      26.375818   \n",
       "std      487.565361      2.278766      0.212280    174.424113      57.296810   \n",
       "min        0.444000      1.000000      0.000000  -6599.978000       0.002000   \n",
       "25%       30.758625      2.000000      0.000000      0.000000       2.610000   \n",
       "50%       85.053000      3.000000      0.000000      9.240000       7.790000   \n",
       "75%      251.053200      5.000000      0.200000     36.810000      24.450000   \n",
       "max    22638.480000     14.000000      0.850000   8399.976000     933.570000   \n",
       "\n",
       "               year  \n",
       "count  51290.000000  \n",
       "mean    2012.777208  \n",
       "std        1.098931  \n",
       "min     2011.000000  \n",
       "25%     2012.000000  \n",
       "50%     2013.000000  \n",
       "75%     2014.000000  \n",
       "max     2014.000000  "
      ]
     },
     "execution_count": 8,
     "metadata": {},
     "output_type": "execute_result"
    }
   ],
   "source": [
    "sales_df.describe()"
   ]
  },
  {
   "cell_type": "code",
   "execution_count": 10,
   "metadata": {},
   "outputs": [
    {
     "data": {
      "text/plain": [
       "order_id          0\n",
       "order_date        0\n",
       "ship_date         0\n",
       "ship_mode         0\n",
       "customer_name     0\n",
       "segment           0\n",
       "state             0\n",
       "country           0\n",
       "market            0\n",
       "region            0\n",
       "product_id        0\n",
       "category          0\n",
       "sub_category      0\n",
       "product_name      0\n",
       "sales             0\n",
       "quantity          0\n",
       "discount          0\n",
       "profit            0\n",
       "shipping_cost     0\n",
       "order_priority    0\n",
       "year              0\n",
       "dtype: int64"
      ]
     },
     "execution_count": 10,
     "metadata": {},
     "output_type": "execute_result"
    }
   ],
   "source": [
    "sales_df.isnull().sum()"
   ]
  },
  {
   "cell_type": "markdown",
   "metadata": {},
   "source": [
    "## Exploratory Data Analysis"
   ]
  },
  {
   "cell_type": "markdown",
   "metadata": {},
   "source": [
    "### WHAT IS THE OVERALL SALES TREND"
   ]
  },
  {
   "cell_type": "code",
   "execution_count": 11,
   "metadata": {
    "scrolled": true
   },
   "outputs": [
    {
     "data": {
      "text/plain": [
       "Timestamp('2011-01-01 00:00:00')"
      ]
     },
     "execution_count": 11,
     "metadata": {},
     "output_type": "execute_result"
    }
   ],
   "source": [
    "sales_df['order_date'].min()"
   ]
  },
  {
   "cell_type": "code",
   "execution_count": 12,
   "metadata": {
    "scrolled": true
   },
   "outputs": [
    {
     "data": {
      "text/plain": [
       "Timestamp('2014-12-31 00:00:00')"
      ]
     },
     "execution_count": 12,
     "metadata": {},
     "output_type": "execute_result"
    }
   ],
   "source": [
    "sales_df['order_date'].max()"
   ]
  },
  {
   "cell_type": "markdown",
   "metadata": {},
   "source": [
    "seles for 4 years"
   ]
  },
  {
   "cell_type": "code",
   "execution_count": 13,
   "metadata": {},
   "outputs": [],
   "source": [
    "# # Getting month year from order_date\n",
    "sales_df['month_year'] = sales_df['order_date'].apply(lambda x: x.strftime('%Y-%m'))"
   ]
  },
  {
   "cell_type": "code",
   "execution_count": 23,
   "metadata": {},
   "outputs": [],
   "source": [
    "sales_df['month'] = sales_df['order_date'].apply(lambda x: x.strftime('%m'))"
   ]
  },
  {
   "cell_type": "code",
   "execution_count": 24,
   "metadata": {},
   "outputs": [],
   "source": [
    "sales_df['year'] = sales_df['order_date'].apply(lambda x: x.strftime('%Y'))"
   ]
  },
  {
   "cell_type": "code",
   "execution_count": 25,
   "metadata": {},
   "outputs": [
    {
     "data": {
      "text/html": [
       "<div>\n",
       "<style scoped>\n",
       "    .dataframe tbody tr th:only-of-type {\n",
       "        vertical-align: middle;\n",
       "    }\n",
       "\n",
       "    .dataframe tbody tr th {\n",
       "        vertical-align: top;\n",
       "    }\n",
       "\n",
       "    .dataframe thead th {\n",
       "        text-align: right;\n",
       "    }\n",
       "</style>\n",
       "<table border=\"1\" class=\"dataframe\">\n",
       "  <thead>\n",
       "    <tr style=\"text-align: right;\">\n",
       "      <th></th>\n",
       "      <th>order_id</th>\n",
       "      <th>order_date</th>\n",
       "      <th>ship_date</th>\n",
       "      <th>ship_mode</th>\n",
       "      <th>customer_name</th>\n",
       "      <th>segment</th>\n",
       "      <th>state</th>\n",
       "      <th>country</th>\n",
       "      <th>market</th>\n",
       "      <th>region</th>\n",
       "      <th>...</th>\n",
       "      <th>product_name</th>\n",
       "      <th>sales</th>\n",
       "      <th>quantity</th>\n",
       "      <th>discount</th>\n",
       "      <th>profit</th>\n",
       "      <th>shipping_cost</th>\n",
       "      <th>order_priority</th>\n",
       "      <th>year</th>\n",
       "      <th>month_year</th>\n",
       "      <th>month</th>\n",
       "    </tr>\n",
       "  </thead>\n",
       "  <tbody>\n",
       "    <tr>\n",
       "      <th>0</th>\n",
       "      <td>AG-2011-2040</td>\n",
       "      <td>2011-01-01</td>\n",
       "      <td>2011-01-06</td>\n",
       "      <td>Standard Class</td>\n",
       "      <td>Toby Braunhardt</td>\n",
       "      <td>Consumer</td>\n",
       "      <td>Constantine</td>\n",
       "      <td>Algeria</td>\n",
       "      <td>Africa</td>\n",
       "      <td>Africa</td>\n",
       "      <td>...</td>\n",
       "      <td>Tenex Lockers, Blue</td>\n",
       "      <td>408.300</td>\n",
       "      <td>2</td>\n",
       "      <td>0.0</td>\n",
       "      <td>106.140</td>\n",
       "      <td>35.46</td>\n",
       "      <td>Medium</td>\n",
       "      <td>2011</td>\n",
       "      <td>2011-01</td>\n",
       "      <td>01</td>\n",
       "    </tr>\n",
       "    <tr>\n",
       "      <th>1</th>\n",
       "      <td>IN-2011-47883</td>\n",
       "      <td>2011-01-01</td>\n",
       "      <td>2011-01-08</td>\n",
       "      <td>Standard Class</td>\n",
       "      <td>Joseph Holt</td>\n",
       "      <td>Consumer</td>\n",
       "      <td>New South Wales</td>\n",
       "      <td>Australia</td>\n",
       "      <td>APAC</td>\n",
       "      <td>Oceania</td>\n",
       "      <td>...</td>\n",
       "      <td>Acme Trimmer, High Speed</td>\n",
       "      <td>120.366</td>\n",
       "      <td>3</td>\n",
       "      <td>0.1</td>\n",
       "      <td>36.036</td>\n",
       "      <td>9.72</td>\n",
       "      <td>Medium</td>\n",
       "      <td>2011</td>\n",
       "      <td>2011-01</td>\n",
       "      <td>01</td>\n",
       "    </tr>\n",
       "    <tr>\n",
       "      <th>2</th>\n",
       "      <td>HU-2011-1220</td>\n",
       "      <td>2011-01-01</td>\n",
       "      <td>2011-01-05</td>\n",
       "      <td>Second Class</td>\n",
       "      <td>Annie Thurman</td>\n",
       "      <td>Consumer</td>\n",
       "      <td>Budapest</td>\n",
       "      <td>Hungary</td>\n",
       "      <td>EMEA</td>\n",
       "      <td>EMEA</td>\n",
       "      <td>...</td>\n",
       "      <td>Tenex Box, Single Width</td>\n",
       "      <td>66.120</td>\n",
       "      <td>4</td>\n",
       "      <td>0.0</td>\n",
       "      <td>29.640</td>\n",
       "      <td>8.17</td>\n",
       "      <td>High</td>\n",
       "      <td>2011</td>\n",
       "      <td>2011-01</td>\n",
       "      <td>01</td>\n",
       "    </tr>\n",
       "    <tr>\n",
       "      <th>3</th>\n",
       "      <td>IT-2011-3647632</td>\n",
       "      <td>2011-01-01</td>\n",
       "      <td>2011-01-05</td>\n",
       "      <td>Second Class</td>\n",
       "      <td>Eugene Moren</td>\n",
       "      <td>Home Office</td>\n",
       "      <td>Stockholm</td>\n",
       "      <td>Sweden</td>\n",
       "      <td>EU</td>\n",
       "      <td>North</td>\n",
       "      <td>...</td>\n",
       "      <td>Enermax Note Cards, Premium</td>\n",
       "      <td>44.865</td>\n",
       "      <td>3</td>\n",
       "      <td>0.5</td>\n",
       "      <td>-26.055</td>\n",
       "      <td>4.82</td>\n",
       "      <td>High</td>\n",
       "      <td>2011</td>\n",
       "      <td>2011-01</td>\n",
       "      <td>01</td>\n",
       "    </tr>\n",
       "    <tr>\n",
       "      <th>4</th>\n",
       "      <td>IN-2011-47883</td>\n",
       "      <td>2011-01-01</td>\n",
       "      <td>2011-01-08</td>\n",
       "      <td>Standard Class</td>\n",
       "      <td>Joseph Holt</td>\n",
       "      <td>Consumer</td>\n",
       "      <td>New South Wales</td>\n",
       "      <td>Australia</td>\n",
       "      <td>APAC</td>\n",
       "      <td>Oceania</td>\n",
       "      <td>...</td>\n",
       "      <td>Eldon Light Bulb, Duo Pack</td>\n",
       "      <td>113.670</td>\n",
       "      <td>5</td>\n",
       "      <td>0.1</td>\n",
       "      <td>37.770</td>\n",
       "      <td>4.70</td>\n",
       "      <td>Medium</td>\n",
       "      <td>2011</td>\n",
       "      <td>2011-01</td>\n",
       "      <td>01</td>\n",
       "    </tr>\n",
       "  </tbody>\n",
       "</table>\n",
       "<p>5 rows × 23 columns</p>\n",
       "</div>"
      ],
      "text/plain": [
       "          order_id order_date  ship_date       ship_mode    customer_name  \\\n",
       "0     AG-2011-2040 2011-01-01 2011-01-06  Standard Class  Toby Braunhardt   \n",
       "1    IN-2011-47883 2011-01-01 2011-01-08  Standard Class      Joseph Holt   \n",
       "2     HU-2011-1220 2011-01-01 2011-01-05    Second Class    Annie Thurman   \n",
       "3  IT-2011-3647632 2011-01-01 2011-01-05    Second Class     Eugene Moren   \n",
       "4    IN-2011-47883 2011-01-01 2011-01-08  Standard Class      Joseph Holt   \n",
       "\n",
       "       segment            state    country  market   region  ...  \\\n",
       "0     Consumer      Constantine    Algeria  Africa   Africa  ...   \n",
       "1     Consumer  New South Wales  Australia    APAC  Oceania  ...   \n",
       "2     Consumer         Budapest    Hungary    EMEA     EMEA  ...   \n",
       "3  Home Office        Stockholm     Sweden      EU    North  ...   \n",
       "4     Consumer  New South Wales  Australia    APAC  Oceania  ...   \n",
       "\n",
       "                  product_name    sales quantity discount   profit  \\\n",
       "0          Tenex Lockers, Blue  408.300        2      0.0  106.140   \n",
       "1     Acme Trimmer, High Speed  120.366        3      0.1   36.036   \n",
       "2      Tenex Box, Single Width   66.120        4      0.0   29.640   \n",
       "3  Enermax Note Cards, Premium   44.865        3      0.5  -26.055   \n",
       "4   Eldon Light Bulb, Duo Pack  113.670        5      0.1   37.770   \n",
       "\n",
       "   shipping_cost  order_priority  year  month_year month  \n",
       "0          35.46          Medium  2011     2011-01    01  \n",
       "1           9.72          Medium  2011     2011-01    01  \n",
       "2           8.17            High  2011     2011-01    01  \n",
       "3           4.82            High  2011     2011-01    01  \n",
       "4           4.70          Medium  2011     2011-01    01  \n",
       "\n",
       "[5 rows x 23 columns]"
      ]
     },
     "execution_count": 25,
     "metadata": {},
     "output_type": "execute_result"
    }
   ],
   "source": [
    "sales_df.head()"
   ]
  },
  {
   "cell_type": "code",
   "execution_count": 14,
   "metadata": {
    "scrolled": true
   },
   "outputs": [
    {
     "data": {
      "text/plain": [
       "0        2011-01\n",
       "1        2011-01\n",
       "2        2011-01\n",
       "3        2011-01\n",
       "4        2011-01\n",
       "          ...   \n",
       "51285    2014-12\n",
       "51286    2014-12\n",
       "51287    2014-12\n",
       "51288    2014-12\n",
       "51289    2014-12\n",
       "Name: month_year, Length: 51290, dtype: object"
      ]
     },
     "execution_count": 14,
     "metadata": {},
     "output_type": "execute_result"
    }
   ],
   "source": [
    "sales_df['month_year']"
   ]
  },
  {
   "cell_type": "code",
   "execution_count": 27,
   "metadata": {},
   "outputs": [],
   "source": [
    "year_trend = sales_df.groupby('year').sum().reset_index()"
   ]
  },
  {
   "cell_type": "code",
   "execution_count": 28,
   "metadata": {
    "scrolled": true
   },
   "outputs": [
    {
     "data": {
      "image/png": "[encoded data removed]",
      "text/plain": [
       "<Figure size 1152x360 with 1 Axes>"
      ]
     },
     "metadata": {
      "needs_background": "light"
     },
     "output_type": "display_data"
    }
   ],
   "source": [
    "plt.figure(figsize=(16, 5))\n",
    "\n",
    "plt.plot(year_trend['year'], year_trend['sales'], color='#b80045')\n",
    "plt.xticks(rotation='vertical', size=8)\n",
    "plt.title('Sales per year')\n",
    "plt.show()"
   ]
  },
  {
   "cell_type": "markdown",
   "metadata": {},
   "source": [
    "Sales have been increasing significantly over the years"
   ]
  },
  {
   "cell_type": "code",
   "execution_count": 30,
   "metadata": {},
   "outputs": [],
   "source": [
    "month_trend = sales_df.groupby('month').sum().reset_index()"
   ]
  },
  {
   "cell_type": "code",
   "execution_count": 31,
   "metadata": {},
   "outputs": [
    {
     "data": {
      "image/png": "[encoded data removed]",
      "text/plain": [
       "<Figure size 1152x360 with 1 Axes>"
      ]
     },
     "metadata": {
      "needs_background": "light"
     },
     "output_type": "display_data"
    }
   ],
   "source": [
    "plt.figure(figsize=(16, 5))\n",
    "\n",
    "plt.plot(month_trend['month'], month_trend['sales'], color='#b80045')\n",
    "plt.xticks(rotation='vertical', size=8)\n",
    "plt.title('Sales per month')\n",
    "plt.show()"
   ]
  },
  {
   "cell_type": "code",
   "execution_count": 18,
   "metadata": {},
   "outputs": [],
   "source": [
    "sales_df_trend = sales_df.groupby('month_year').sum()['sales'].reset_index()"
   ]
  },
  {
   "cell_type": "code",
   "execution_count": 32,
   "metadata": {
    "scrolled": true
   },
   "outputs": [
    {
     "data": {
      "image/png": "[encoded data removed]",
      "text/plain": [
       "<Figure size 1152x360 with 1 Axes>"
      ]
     },
     "metadata": {
      "needs_background": "light"
     },
     "output_type": "display_data"
    }
   ],
   "source": [
    "plt.figure(figsize=(16, 5))\n",
    "\n",
    "plt.plot(sales_df_trend['month_year'], sales_df_trend['sales'], color='#b80045')\n",
    "plt.xticks(rotation='vertical', size=8)\n",
    "plt.title('Sales per year and month')\n",
    "plt.show()"
   ]
  },
  {
   "cell_type": "markdown",
   "metadata": {},
   "source": [
    "1 - the initial four months every year the sales are not much heigh\n",
    "\n",
    "2 - after the initial four months the sales increases\n",
    "\n",
    "3 - overall paterns that which means the sales increasing overall the company is growing"
   ]
  },
  {
   "cell_type": "markdown",
   "metadata": {},
   "source": [
    "### WHICH ARE THE TOP 10 PRODUCTS BY SALES?"
   ]
  },
  {
   "cell_type": "code",
   "execution_count": 34,
   "metadata": {},
   "outputs": [
    {
     "data": {
      "text/plain": [
       "Index(['order_id', 'order_date', 'ship_date', 'ship_mode', 'customer_name',\n",
       "       'segment', 'state', 'country', 'market', 'region', 'product_id',\n",
       "       'category', 'sub_category', 'product_name', 'sales', 'quantity',\n",
       "       'discount', 'profit', 'shipping_cost', 'order_priority', 'year',\n",
       "       'month_year', 'month'],\n",
       "      dtype='object')"
      ]
     },
     "execution_count": 34,
     "metadata": {},
     "output_type": "execute_result"
    }
   ],
   "source": [
    "sales_df.columns"
   ]
  },
  {
   "cell_type": "code",
   "execution_count": 53,
   "metadata": {},
   "outputs": [],
   "source": [
    "# grouping product name\n",
    "prod_name = pd.DataFrame(sales_df.groupby('product_name').sum()['sales'])"
   ]
  },
  {
   "cell_type": "code",
   "execution_count": 54,
   "metadata": {},
   "outputs": [],
   "source": [
    "prod_sales = prod_name.sort_values('sales' , ascending=False)"
   ]
  },
  {
   "cell_type": "code",
   "execution_count": 55,
   "metadata": {
    "scrolled": true
   },
   "outputs": [
    {
     "data": {
      "text/html": [
       "<div>\n",
       "<style scoped>\n",
       "    .dataframe tbody tr th:only-of-type {\n",
       "        vertical-align: middle;\n",
       "    }\n",
       "\n",
       "    .dataframe tbody tr th {\n",
       "        vertical-align: top;\n",
       "    }\n",
       "\n",
       "    .dataframe thead th {\n",
       "        text-align: right;\n",
       "    }\n",
       "</style>\n",
       "<table border=\"1\" class=\"dataframe\">\n",
       "  <thead>\n",
       "    <tr style=\"text-align: right;\">\n",
       "      <th></th>\n",
       "      <th>sales</th>\n",
       "    </tr>\n",
       "    <tr>\n",
       "      <th>product_name</th>\n",
       "      <th></th>\n",
       "    </tr>\n",
       "  </thead>\n",
       "  <tbody>\n",
       "    <tr>\n",
       "      <th>Apple Smart Phone, Full Size</th>\n",
       "      <td>86935.7786</td>\n",
       "    </tr>\n",
       "    <tr>\n",
       "      <th>Cisco Smart Phone, Full Size</th>\n",
       "      <td>76441.5306</td>\n",
       "    </tr>\n",
       "    <tr>\n",
       "      <th>Motorola Smart Phone, Full Size</th>\n",
       "      <td>73156.3030</td>\n",
       "    </tr>\n",
       "    <tr>\n",
       "      <th>Nokia Smart Phone, Full Size</th>\n",
       "      <td>71904.5555</td>\n",
       "    </tr>\n",
       "    <tr>\n",
       "      <th>Canon imageCLASS 2200 Advanced Copier</th>\n",
       "      <td>61599.8240</td>\n",
       "    </tr>\n",
       "    <tr>\n",
       "      <th>Hon Executive Leather Armchair, Adjustable</th>\n",
       "      <td>58193.4841</td>\n",
       "    </tr>\n",
       "    <tr>\n",
       "      <th>Office Star Executive Leather Armchair, Adjustable</th>\n",
       "      <td>50661.6840</td>\n",
       "    </tr>\n",
       "    <tr>\n",
       "      <th>Harbour Creations Executive Leather Armchair, Adjustable</th>\n",
       "      <td>50121.5160</td>\n",
       "    </tr>\n",
       "    <tr>\n",
       "      <th>Samsung Smart Phone, Cordless</th>\n",
       "      <td>48653.4600</td>\n",
       "    </tr>\n",
       "    <tr>\n",
       "      <th>Nokia Smart Phone, with Caller ID</th>\n",
       "      <td>47877.7857</td>\n",
       "    </tr>\n",
       "  </tbody>\n",
       "</table>\n",
       "</div>"
      ],
      "text/plain": [
       "                                                         sales\n",
       "product_name                                                  \n",
       "Apple Smart Phone, Full Size                        86935.7786\n",
       "Cisco Smart Phone, Full Size                        76441.5306\n",
       "Motorola Smart Phone, Full Size                     73156.3030\n",
       "Nokia Smart Phone, Full Size                        71904.5555\n",
       "Canon imageCLASS 2200 Advanced Copier               61599.8240\n",
       "Hon Executive Leather Armchair, Adjustable          58193.4841\n",
       "Office Star Executive Leather Armchair, Adjustable  50661.6840\n",
       "Harbour Creations Executive Leather Armchair, A...  50121.5160\n",
       "Samsung Smart Phone, Cordless                       48653.4600\n",
       "Nokia Smart Phone, with Caller ID                   47877.7857"
      ]
     },
     "execution_count": 55,
     "metadata": {},
     "output_type": "execute_result"
    }
   ],
   "source": [
    "prod_sales[:10]"
   ]
  },
  {
   "cell_type": "code",
   "execution_count": 64,
   "metadata": {},
   "outputs": [
    {
     "data": {
      "text/plain": [
       "<AxesSubplot:title={'center':'TOP 10 PRODUCTS BY SALES'}, ylabel='product_name'>"
      ]
     },
     "execution_count": 64,
     "metadata": {},
     "output_type": "execute_result"
    },
    {
     "data": {
      "image/png": "[encoded data removed]",
      "text/plain": [
       "<Figure size 1152x576 with 1 Axes>"
      ]
     },
     "metadata": {
      "needs_background": "light"
     },
     "output_type": "display_data"
    }
   ],
   "source": [
    "prod_sales[:10].plot(kind = 'barh',figsize = (16,8),title = 'TOP 10 PRODUCTS BY SALES' )"
   ]
  },
  {
   "cell_type": "markdown",
   "metadata": {},
   "source": [
    "### WHICH ARE THE MOST SELLING PRODUCTS?"
   ]
  },
  {
   "cell_type": "code",
   "execution_count": 69,
   "metadata": {},
   "outputs": [],
   "source": [
    "prod_quan = pd.DataFrame(sales_df.groupby('product_name').sum()['quantity'])"
   ]
  },
  {
   "cell_type": "code",
   "execution_count": 70,
   "metadata": {},
   "outputs": [],
   "source": [
    "best_sell_prod= prod_quan.sort_values('quantity' , ascending=False)"
   ]
  },
  {
   "cell_type": "code",
   "execution_count": 71,
   "metadata": {},
   "outputs": [
    {
     "data": {
      "text/html": [
       "<div>\n",
       "<style scoped>\n",
       "    .dataframe tbody tr th:only-of-type {\n",
       "        vertical-align: middle;\n",
       "    }\n",
       "\n",
       "    .dataframe tbody tr th {\n",
       "        vertical-align: top;\n",
       "    }\n",
       "\n",
       "    .dataframe thead th {\n",
       "        text-align: right;\n",
       "    }\n",
       "</style>\n",
       "<table border=\"1\" class=\"dataframe\">\n",
       "  <thead>\n",
       "    <tr style=\"text-align: right;\">\n",
       "      <th></th>\n",
       "      <th>quantity</th>\n",
       "    </tr>\n",
       "    <tr>\n",
       "      <th>product_name</th>\n",
       "      <th></th>\n",
       "    </tr>\n",
       "  </thead>\n",
       "  <tbody>\n",
       "    <tr>\n",
       "      <th>Staples</th>\n",
       "      <td>876</td>\n",
       "    </tr>\n",
       "    <tr>\n",
       "      <th>Cardinal Index Tab, Clear</th>\n",
       "      <td>337</td>\n",
       "    </tr>\n",
       "    <tr>\n",
       "      <th>Eldon File Cart, Single Width</th>\n",
       "      <td>321</td>\n",
       "    </tr>\n",
       "    <tr>\n",
       "      <th>Rogers File Cart, Single Width</th>\n",
       "      <td>262</td>\n",
       "    </tr>\n",
       "    <tr>\n",
       "      <th>Sanford Pencil Sharpener, Water Color</th>\n",
       "      <td>259</td>\n",
       "    </tr>\n",
       "    <tr>\n",
       "      <th>Stockwell Paper Clips, Assorted Sizes</th>\n",
       "      <td>253</td>\n",
       "    </tr>\n",
       "    <tr>\n",
       "      <th>Avery Index Tab, Clear</th>\n",
       "      <td>252</td>\n",
       "    </tr>\n",
       "    <tr>\n",
       "      <th>Ibico Index Tab, Clear</th>\n",
       "      <td>251</td>\n",
       "    </tr>\n",
       "    <tr>\n",
       "      <th>Smead File Cart, Single Width</th>\n",
       "      <td>250</td>\n",
       "    </tr>\n",
       "    <tr>\n",
       "      <th>Stanley Pencil Sharpener, Water Color</th>\n",
       "      <td>242</td>\n",
       "    </tr>\n",
       "  </tbody>\n",
       "</table>\n",
       "</div>"
      ],
      "text/plain": [
       "                                       quantity\n",
       "product_name                                   \n",
       "Staples                                     876\n",
       "Cardinal Index Tab, Clear                   337\n",
       "Eldon File Cart, Single Width               321\n",
       "Rogers File Cart, Single Width              262\n",
       "Sanford Pencil Sharpener, Water Color       259\n",
       "Stockwell Paper Clips, Assorted Sizes       253\n",
       "Avery Index Tab, Clear                      252\n",
       "Ibico Index Tab, Clear                      251\n",
       "Smead File Cart, Single Width               250\n",
       "Stanley Pencil Sharpener, Water Color       242"
      ]
     },
     "execution_count": 71,
     "metadata": {},
     "output_type": "execute_result"
    }
   ],
   "source": [
    "best_sell_prod[:10]"
   ]
  },
  {
   "cell_type": "code",
   "execution_count": 73,
   "metadata": {},
   "outputs": [
    {
     "data": {
      "text/plain": [
       "<AxesSubplot:title={'center':'10 MOST SELLING PRODUCTS'}, xlabel='product_name'>"
      ]
     },
     "execution_count": 73,
     "metadata": {},
     "output_type": "execute_result"
    },
    {
     "data": {
      "image/png": "[encoded data removed]",
      "text/plain": [
       "<Figure size 864x360 with 1 Axes>"
      ]
     },
     "metadata": {
      "needs_background": "light"
     },
     "output_type": "display_data"
    }
   ],
   "source": [
    "best_sell_prod[:10].plot(kind = 'bar',figsize = (12,5),title = '10 MOST SELLING PRODUCTS' )"
   ]
  },
  {
   "cell_type": "markdown",
   "metadata": {},
   "source": [
    "### WHAT IS THE MOST PREFERRED SHIP MODE?"
   ]
  },
  {
   "cell_type": "code",
   "execution_count": 74,
   "metadata": {},
   "outputs": [
    {
     "data": {
      "image/png": "[encoded data removed]",
      "text/plain": [
       "<Figure size 720x576 with 1 Axes>"
      ]
     },
     "metadata": {
      "needs_background": "light"
     },
     "output_type": "display_data"
    }
   ],
   "source": [
    "# Setting the figure size\n",
    "plt.figure(figsize=(10, 8))\n",
    "\n",
    "# countplot: Show the counts of observations in each categorical bin using bars\n",
    "sns.countplot(x='ship_mode', data=sales_df)\n",
    "\n",
    "# Display the figure\n",
    "plt.show()"
   ]
  },
  {
   "cell_type": "markdown",
   "metadata": {},
   "source": [
    "### WHICH ARE THE MOST PROFITABLE CATEGORY AND SUB-CATEGORY?"
   ]
  },
  {
   "cell_type": "code",
   "execution_count": 86,
   "metadata": {},
   "outputs": [
    {
     "data": {
      "text/html": [
       "<div>\n",
       "<style scoped>\n",
       "    .dataframe tbody tr th:only-of-type {\n",
       "        vertical-align: middle;\n",
       "    }\n",
       "\n",
       "    .dataframe tbody tr th {\n",
       "        vertical-align: top;\n",
       "    }\n",
       "\n",
       "    .dataframe thead th {\n",
       "        text-align: right;\n",
       "    }\n",
       "</style>\n",
       "<table border=\"1\" class=\"dataframe\">\n",
       "  <thead>\n",
       "    <tr style=\"text-align: right;\">\n",
       "      <th></th>\n",
       "      <th>profit</th>\n",
       "    </tr>\n",
       "    <tr>\n",
       "      <th>category</th>\n",
       "      <th></th>\n",
       "    </tr>\n",
       "  </thead>\n",
       "  <tbody>\n",
       "    <tr>\n",
       "      <th>Technology</th>\n",
       "      <td>663778.73318</td>\n",
       "    </tr>\n",
       "    <tr>\n",
       "      <th>Office Supplies</th>\n",
       "      <td>518473.83430</td>\n",
       "    </tr>\n",
       "    <tr>\n",
       "      <th>Furniture</th>\n",
       "      <td>286782.25380</td>\n",
       "    </tr>\n",
       "  </tbody>\n",
       "</table>\n",
       "</div>"
      ],
      "text/plain": [
       "                       profit\n",
       "category                     \n",
       "Technology       663778.73318\n",
       "Office Supplies  518473.83430\n",
       "Furniture        286782.25380"
      ]
     },
     "execution_count": 86,
     "metadata": {},
     "output_type": "execute_result"
    }
   ],
   "source": [
    "cat_pft = pd.DataFrame(sales_df.groupby('category').sum()['profit'])\n",
    "top_cat = cat_pft.sort_values('profit',ascending=False)\n",
    "top_cat"
   ]
  },
  {
   "cell_type": "code",
   "execution_count": 97,
   "metadata": {},
   "outputs": [
    {
     "data": {
      "text/plain": [
       "<AxesSubplot:ylabel='profit'>"
      ]
     },
     "execution_count": 97,
     "metadata": {},
     "output_type": "execute_result"
    },
    {
     "data": {
      "image/png": "[encoded data removed]",
      "text/plain": [
       "<Figure size 432x288 with 1 Axes>"
      ]
     },
     "metadata": {},
     "output_type": "display_data"
    }
   ],
   "source": [
    "top_cat.plot(kind = 'pie',y='profit',autopct = '%1.1f%%')"
   ]
  },
  {
   "cell_type": "code",
   "execution_count": 90,
   "metadata": {},
   "outputs": [],
   "source": [
    "cat_subcat = pd.DataFrame(sales_df.groupby(['category', 'sub_category']).sum()['profit'])\n",
    "\n",
    "# Sorting the values\n",
    "x= cat_subcat.sort_values(['category','profit'], ascending=False)"
   ]
  },
  {
   "cell_type": "code",
   "execution_count": 93,
   "metadata": {},
   "outputs": [
    {
     "data": {
      "text/plain": [
       "<AxesSubplot:ylabel='category,sub_category'>"
      ]
     },
     "execution_count": 93,
     "metadata": {},
     "output_type": "execute_result"
    },
    {
     "data": {
      "image/png": "[encoded data removed]",
      "text/plain": [
       "<Figure size 1440x720 with 1 Axes>"
      ]
     },
     "metadata": {
      "needs_background": "light"
     },
     "output_type": "display_data"
    }
   ],
   "source": [
    "x.plot(kind = 'barh',figsize=(20,10))"
   ]
  },
  {
   "cell_type": "code",
   "execution_count": 98,
   "metadata": {
    "scrolled": true
   },
   "outputs": [
    {
     "data": {
      "text/html": [
       "<div>\n",
       "<style scoped>\n",
       "    .dataframe tbody tr th:only-of-type {\n",
       "        vertical-align: middle;\n",
       "    }\n",
       "\n",
       "    .dataframe tbody tr th {\n",
       "        vertical-align: top;\n",
       "    }\n",
       "\n",
       "    .dataframe thead th {\n",
       "        text-align: right;\n",
       "    }\n",
       "</style>\n",
       "<table border=\"1\" class=\"dataframe\">\n",
       "  <thead>\n",
       "    <tr style=\"text-align: right;\">\n",
       "      <th></th>\n",
       "      <th>order_id</th>\n",
       "      <th>order_date</th>\n",
       "      <th>ship_date</th>\n",
       "      <th>ship_mode</th>\n",
       "      <th>customer_name</th>\n",
       "      <th>segment</th>\n",
       "      <th>state</th>\n",
       "      <th>country</th>\n",
       "      <th>market</th>\n",
       "      <th>region</th>\n",
       "      <th>...</th>\n",
       "      <th>product_name</th>\n",
       "      <th>sales</th>\n",
       "      <th>quantity</th>\n",
       "      <th>discount</th>\n",
       "      <th>profit</th>\n",
       "      <th>shipping_cost</th>\n",
       "      <th>order_priority</th>\n",
       "      <th>year</th>\n",
       "      <th>month_year</th>\n",
       "      <th>month</th>\n",
       "    </tr>\n",
       "  </thead>\n",
       "  <tbody>\n",
       "    <tr>\n",
       "      <th>0</th>\n",
       "      <td>AG-2011-2040</td>\n",
       "      <td>2011-01-01</td>\n",
       "      <td>2011-01-06</td>\n",
       "      <td>Standard Class</td>\n",
       "      <td>Toby Braunhardt</td>\n",
       "      <td>Consumer</td>\n",
       "      <td>Constantine</td>\n",
       "      <td>Algeria</td>\n",
       "      <td>Africa</td>\n",
       "      <td>Africa</td>\n",
       "      <td>...</td>\n",
       "      <td>Tenex Lockers, Blue</td>\n",
       "      <td>408.300</td>\n",
       "      <td>2</td>\n",
       "      <td>0.0</td>\n",
       "      <td>106.140</td>\n",
       "      <td>35.46</td>\n",
       "      <td>Medium</td>\n",
       "      <td>2011</td>\n",
       "      <td>2011-01</td>\n",
       "      <td>01</td>\n",
       "    </tr>\n",
       "    <tr>\n",
       "      <th>1</th>\n",
       "      <td>IN-2011-47883</td>\n",
       "      <td>2011-01-01</td>\n",
       "      <td>2011-01-08</td>\n",
       "      <td>Standard Class</td>\n",
       "      <td>Joseph Holt</td>\n",
       "      <td>Consumer</td>\n",
       "      <td>New South Wales</td>\n",
       "      <td>Australia</td>\n",
       "      <td>APAC</td>\n",
       "      <td>Oceania</td>\n",
       "      <td>...</td>\n",
       "      <td>Acme Trimmer, High Speed</td>\n",
       "      <td>120.366</td>\n",
       "      <td>3</td>\n",
       "      <td>0.1</td>\n",
       "      <td>36.036</td>\n",
       "      <td>9.72</td>\n",
       "      <td>Medium</td>\n",
       "      <td>2011</td>\n",
       "      <td>2011-01</td>\n",
       "      <td>01</td>\n",
       "    </tr>\n",
       "    <tr>\n",
       "      <th>2</th>\n",
       "      <td>HU-2011-1220</td>\n",
       "      <td>2011-01-01</td>\n",
       "      <td>2011-01-05</td>\n",
       "      <td>Second Class</td>\n",
       "      <td>Annie Thurman</td>\n",
       "      <td>Consumer</td>\n",
       "      <td>Budapest</td>\n",
       "      <td>Hungary</td>\n",
       "      <td>EMEA</td>\n",
       "      <td>EMEA</td>\n",
       "      <td>...</td>\n",
       "      <td>Tenex Box, Single Width</td>\n",
       "      <td>66.120</td>\n",
       "      <td>4</td>\n",
       "      <td>0.0</td>\n",
       "      <td>29.640</td>\n",
       "      <td>8.17</td>\n",
       "      <td>High</td>\n",
       "      <td>2011</td>\n",
       "      <td>2011-01</td>\n",
       "      <td>01</td>\n",
       "    </tr>\n",
       "    <tr>\n",
       "      <th>3</th>\n",
       "      <td>IT-2011-3647632</td>\n",
       "      <td>2011-01-01</td>\n",
       "      <td>2011-01-05</td>\n",
       "      <td>Second Class</td>\n",
       "      <td>Eugene Moren</td>\n",
       "      <td>Home Office</td>\n",
       "      <td>Stockholm</td>\n",
       "      <td>Sweden</td>\n",
       "      <td>EU</td>\n",
       "      <td>North</td>\n",
       "      <td>...</td>\n",
       "      <td>Enermax Note Cards, Premium</td>\n",
       "      <td>44.865</td>\n",
       "      <td>3</td>\n",
       "      <td>0.5</td>\n",
       "      <td>-26.055</td>\n",
       "      <td>4.82</td>\n",
       "      <td>High</td>\n",
       "      <td>2011</td>\n",
       "      <td>2011-01</td>\n",
       "      <td>01</td>\n",
       "    </tr>\n",
       "    <tr>\n",
       "      <th>4</th>\n",
       "      <td>IN-2011-47883</td>\n",
       "      <td>2011-01-01</td>\n",
       "      <td>2011-01-08</td>\n",
       "      <td>Standard Class</td>\n",
       "      <td>Joseph Holt</td>\n",
       "      <td>Consumer</td>\n",
       "      <td>New South Wales</td>\n",
       "      <td>Australia</td>\n",
       "      <td>APAC</td>\n",
       "      <td>Oceania</td>\n",
       "      <td>...</td>\n",
       "      <td>Eldon Light Bulb, Duo Pack</td>\n",
       "      <td>113.670</td>\n",
       "      <td>5</td>\n",
       "      <td>0.1</td>\n",
       "      <td>37.770</td>\n",
       "      <td>4.70</td>\n",
       "      <td>Medium</td>\n",
       "      <td>2011</td>\n",
       "      <td>2011-01</td>\n",
       "      <td>01</td>\n",
       "    </tr>\n",
       "  </tbody>\n",
       "</table>\n",
       "<p>5 rows × 23 columns</p>\n",
       "</div>"
      ],
      "text/plain": [
       "          order_id order_date  ship_date       ship_mode    customer_name  \\\n",
       "0     AG-2011-2040 2011-01-01 2011-01-06  Standard Class  Toby Braunhardt   \n",
       "1    IN-2011-47883 2011-01-01 2011-01-08  Standard Class      Joseph Holt   \n",
       "2     HU-2011-1220 2011-01-01 2011-01-05    Second Class    Annie Thurman   \n",
       "3  IT-2011-3647632 2011-01-01 2011-01-05    Second Class     Eugene Moren   \n",
       "4    IN-2011-47883 2011-01-01 2011-01-08  Standard Class      Joseph Holt   \n",
       "\n",
       "       segment            state    country  market   region  ...  \\\n",
       "0     Consumer      Constantine    Algeria  Africa   Africa  ...   \n",
       "1     Consumer  New South Wales  Australia    APAC  Oceania  ...   \n",
       "2     Consumer         Budapest    Hungary    EMEA     EMEA  ...   \n",
       "3  Home Office        Stockholm     Sweden      EU    North  ...   \n",
       "4     Consumer  New South Wales  Australia    APAC  Oceania  ...   \n",
       "\n",
       "                  product_name    sales quantity discount   profit  \\\n",
       "0          Tenex Lockers, Blue  408.300        2      0.0  106.140   \n",
       "1     Acme Trimmer, High Speed  120.366        3      0.1   36.036   \n",
       "2      Tenex Box, Single Width   66.120        4      0.0   29.640   \n",
       "3  Enermax Note Cards, Premium   44.865        3      0.5  -26.055   \n",
       "4   Eldon Light Bulb, Duo Pack  113.670        5      0.1   37.770   \n",
       "\n",
       "   shipping_cost  order_priority  year  month_year month  \n",
       "0          35.46          Medium  2011     2011-01    01  \n",
       "1           9.72          Medium  2011     2011-01    01  \n",
       "2           8.17            High  2011     2011-01    01  \n",
       "3           4.82            High  2011     2011-01    01  \n",
       "4           4.70          Medium  2011     2011-01    01  \n",
       "\n",
       "[5 rows x 23 columns]"
      ]
     },
     "execution_count": 98,
     "metadata": {},
     "output_type": "execute_result"
    }
   ],
   "source": [
    "sales_df.head()"
   ]
  },
  {
   "cell_type": "code",
   "execution_count": 99,
   "metadata": {},
   "outputs": [
    {
     "data": {
      "text/plain": [
       "Index(['order_id', 'order_date', 'ship_date', 'ship_mode', 'customer_name',\n",
       "       'segment', 'state', 'country', 'market', 'region', 'product_id',\n",
       "       'category', 'sub_category', 'product_name', 'sales', 'quantity',\n",
       "       'discount', 'profit', 'shipping_cost', 'order_priority', 'year',\n",
       "       'month_year', 'month'],\n",
       "      dtype='object')"
      ]
     },
     "execution_count": 99,
     "metadata": {},
     "output_type": "execute_result"
    }
   ],
   "source": [
    "sales_df.columns"
   ]
  },
  {
   "cell_type": "code",
   "execution_count": 101,
   "metadata": {},
   "outputs": [
    {
     "data": {
      "text/html": [
       "<div>\n",
       "<style scoped>\n",
       "    .dataframe tbody tr th:only-of-type {\n",
       "        vertical-align: middle;\n",
       "    }\n",
       "\n",
       "    .dataframe tbody tr th {\n",
       "        vertical-align: top;\n",
       "    }\n",
       "\n",
       "    .dataframe thead th {\n",
       "        text-align: right;\n",
       "    }\n",
       "</style>\n",
       "<table border=\"1\" class=\"dataframe\">\n",
       "  <thead>\n",
       "    <tr style=\"text-align: right;\">\n",
       "      <th></th>\n",
       "      <th>sales</th>\n",
       "    </tr>\n",
       "    <tr>\n",
       "      <th>segment</th>\n",
       "      <th></th>\n",
       "    </tr>\n",
       "  </thead>\n",
       "  <tbody>\n",
       "    <tr>\n",
       "      <th>Consumer</th>\n",
       "      <td>6.507949e+06</td>\n",
       "    </tr>\n",
       "    <tr>\n",
       "      <th>Corporate</th>\n",
       "      <td>3.824698e+06</td>\n",
       "    </tr>\n",
       "    <tr>\n",
       "      <th>Home Office</th>\n",
       "      <td>2.309855e+06</td>\n",
       "    </tr>\n",
       "  </tbody>\n",
       "</table>\n",
       "</div>"
      ],
      "text/plain": [
       "                    sales\n",
       "segment                  \n",
       "Consumer     6.507949e+06\n",
       "Corporate    3.824698e+06\n",
       "Home Office  2.309855e+06"
      ]
     },
     "execution_count": 101,
     "metadata": {},
     "output_type": "execute_result"
    }
   ],
   "source": [
    "seg_sale_group = pd.DataFrame(sales_df.groupby('segment').sum()['sales'])\n",
    "\n",
    "# Sorting the values\n",
    "best_seg = seg_sale_group.sort_values('sales', ascending=False)\n",
    "best_seg"
   ]
  },
  {
   "cell_type": "code",
   "execution_count": 102,
   "metadata": {},
   "outputs": [
    {
     "data": {
      "text/plain": [
       "<AxesSubplot:ylabel='sales'>"
      ]
     },
     "execution_count": 102,
     "metadata": {},
     "output_type": "execute_result"
    },
    {
     "data": {
      "image/png": "[encoded data removed]",
      "text/plain": [
       "<Figure size 432x288 with 1 Axes>"
      ]
     },
     "metadata": {},
     "output_type": "display_data"
    }
   ],
   "source": [
    "best_seg.plot(kind = 'pie',y='sales',autopct = '%1.1f%%')"
   ]
  },
  {
   "cell_type": "code",
   "execution_count": 104,
   "metadata": {},
   "outputs": [
    {
     "data": {
      "text/html": [
       "<div>\n",
       "<style scoped>\n",
       "    .dataframe tbody tr th:only-of-type {\n",
       "        vertical-align: middle;\n",
       "    }\n",
       "\n",
       "    .dataframe tbody tr th {\n",
       "        vertical-align: top;\n",
       "    }\n",
       "\n",
       "    .dataframe thead th {\n",
       "        text-align: right;\n",
       "    }\n",
       "</style>\n",
       "<table border=\"1\" class=\"dataframe\">\n",
       "  <thead>\n",
       "    <tr style=\"text-align: right;\">\n",
       "      <th></th>\n",
       "      <th>quantity</th>\n",
       "    </tr>\n",
       "    <tr>\n",
       "      <th>segment</th>\n",
       "      <th></th>\n",
       "    </tr>\n",
       "  </thead>\n",
       "  <tbody>\n",
       "    <tr>\n",
       "      <th>Consumer</th>\n",
       "      <td>92157</td>\n",
       "    </tr>\n",
       "    <tr>\n",
       "      <th>Corporate</th>\n",
       "      <td>53565</td>\n",
       "    </tr>\n",
       "    <tr>\n",
       "      <th>Home Office</th>\n",
       "      <td>32590</td>\n",
       "    </tr>\n",
       "  </tbody>\n",
       "</table>\n",
       "</div>"
      ],
      "text/plain": [
       "             quantity\n",
       "segment              \n",
       "Consumer        92157\n",
       "Corporate       53565\n",
       "Home Office     32590"
      ]
     },
     "execution_count": 104,
     "metadata": {},
     "output_type": "execute_result"
    }
   ],
   "source": [
    "seg_qoun_group = pd.DataFrame(sales_df.groupby('segment').sum()['quantity'])\n",
    "\n",
    "# Sorting the values\n",
    "top_seg = seg_qoun_group.sort_values('quantity', ascending=False)\n",
    "top_seg"
   ]
  },
  {
   "cell_type": "code",
   "execution_count": 107,
   "metadata": {},
   "outputs": [
    {
     "data": {
      "text/plain": [
       "United States    9994\n",
       "Australia        2837\n",
       "France           2827\n",
       "Mexico           2644\n",
       "Germany          2065\n",
       "                 ... \n",
       "Eritrea             2\n",
       "South Sudan         2\n",
       "Chad                2\n",
       "Swaziland           2\n",
       "Burundi             2\n",
       "Name: country, Length: 147, dtype: int64"
      ]
     },
     "execution_count": 107,
     "metadata": {},
     "output_type": "execute_result"
    }
   ],
   "source": [
    "sales_df.country.value_counts()"
   ]
  },
  {
   "cell_type": "markdown",
   "metadata": {},
   "source": [
    "### Best Countries in Sales"
   ]
  },
  {
   "cell_type": "code",
   "execution_count": 110,
   "metadata": {},
   "outputs": [
    {
     "data": {
      "text/html": [
       "<div>\n",
       "<style scoped>\n",
       "    .dataframe tbody tr th:only-of-type {\n",
       "        vertical-align: middle;\n",
       "    }\n",
       "\n",
       "    .dataframe tbody tr th {\n",
       "        vertical-align: top;\n",
       "    }\n",
       "\n",
       "    .dataframe thead th {\n",
       "        text-align: right;\n",
       "    }\n",
       "</style>\n",
       "<table border=\"1\" class=\"dataframe\">\n",
       "  <thead>\n",
       "    <tr style=\"text-align: right;\">\n",
       "      <th></th>\n",
       "      <th>sales</th>\n",
       "    </tr>\n",
       "    <tr>\n",
       "      <th>country</th>\n",
       "      <th></th>\n",
       "    </tr>\n",
       "  </thead>\n",
       "  <tbody>\n",
       "    <tr>\n",
       "      <th>United States</th>\n",
       "      <td>2.297201e+06</td>\n",
       "    </tr>\n",
       "    <tr>\n",
       "      <th>Australia</th>\n",
       "      <td>9.252359e+05</td>\n",
       "    </tr>\n",
       "    <tr>\n",
       "      <th>France</th>\n",
       "      <td>8.589311e+05</td>\n",
       "    </tr>\n",
       "    <tr>\n",
       "      <th>China</th>\n",
       "      <td>7.005620e+05</td>\n",
       "    </tr>\n",
       "    <tr>\n",
       "      <th>Germany</th>\n",
       "      <td>6.288400e+05</td>\n",
       "    </tr>\n",
       "    <tr>\n",
       "      <th>Mexico</th>\n",
       "      <td>6.225906e+05</td>\n",
       "    </tr>\n",
       "    <tr>\n",
       "      <th>India</th>\n",
       "      <td>5.896501e+05</td>\n",
       "    </tr>\n",
       "    <tr>\n",
       "      <th>United Kingdom</th>\n",
       "      <td>5.285763e+05</td>\n",
       "    </tr>\n",
       "    <tr>\n",
       "      <th>Indonesia</th>\n",
       "      <td>4.048875e+05</td>\n",
       "    </tr>\n",
       "    <tr>\n",
       "      <th>Brazil</th>\n",
       "      <td>3.611064e+05</td>\n",
       "    </tr>\n",
       "  </tbody>\n",
       "</table>\n",
       "</div>"
      ],
      "text/plain": [
       "                       sales\n",
       "country                     \n",
       "United States   2.297201e+06\n",
       "Australia       9.252359e+05\n",
       "France          8.589311e+05\n",
       "China           7.005620e+05\n",
       "Germany         6.288400e+05\n",
       "Mexico          6.225906e+05\n",
       "India           5.896501e+05\n",
       "United Kingdom  5.285763e+05\n",
       "Indonesia       4.048875e+05\n",
       "Brazil          3.611064e+05"
      ]
     },
     "execution_count": 110,
     "metadata": {},
     "output_type": "execute_result"
    }
   ],
   "source": [
    "country_sale = pd.DataFrame(sales_df.groupby('country').sum()['sales'])\n",
    "best_10_country_sale = country_sale.sort_values('sales',ascending = False)\n",
    "best_10_country_sale[:10]"
   ]
  },
  {
   "cell_type": "code",
   "execution_count": 113,
   "metadata": {},
   "outputs": [
    {
     "data": {
      "text/plain": [
       "<AxesSubplot:ylabel='country'>"
      ]
     },
     "execution_count": 113,
     "metadata": {},
     "output_type": "execute_result"
    },
    {
     "data": {
      "image/png": "[encoded data removed]",
      "text/plain": [
       "<Figure size 432x288 with 1 Axes>"
      ]
     },
     "metadata": {
      "needs_background": "light"
     },
     "output_type": "display_data"
    }
   ],
   "source": [
    "best_10_country_sale[:10].plot(kind='barh')"
   ]
  }
 ],
 "metadata": {
  "kernelspec": {
   "display_name": "Python 3",
   "language": "python",
   "name": "python3"
  },
  "language_info": {
   "codemirror_mode": {
    "name": "ipython",
    "version": 3
   },
   "file_extension": ".py",
   "mimetype": "text/x-python",
   "name": "python",
   "nbconvert_exporter": "python",
   "pygments_lexer": "ipython3",
   "version": "3.8.5"
  }
 },
 "nbformat": 4,
 "nbformat_minor": 4
}
