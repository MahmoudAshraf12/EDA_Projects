{
 "cells": [
  {
   "cell_type": "code",
   "execution_count": 2,
   "metadata": {},
   "outputs": [],
   "source": [
    "import pandas as pd \n",
    "import numpy as np\n",
    "import matplotlib.pyplot as plt\n",
    "import seaborn as sns"
   ]
  },
  {
   "cell_type": "code",
   "execution_count": 3,
   "metadata": {},
   "outputs": [],
   "source": [
    "df = pd.read_csv('data/Topic_Survey_Assignment.csv')"
   ]
  },
  {
   "cell_type": "code",
   "execution_count": 4,
   "metadata": {},
   "outputs": [
    {
     "data": {
      "text/html": [
       "<div>\n",
       "<style scoped>\n",
       "    .dataframe tbody tr th:only-of-type {\n",
       "        vertical-align: middle;\n",
       "    }\n",
       "\n",
       "    .dataframe tbody tr th {\n",
       "        vertical-align: top;\n",
       "    }\n",
       "\n",
       "    .dataframe thead th {\n",
       "        text-align: right;\n",
       "    }\n",
       "</style>\n",
       "<table border=\"1\" class=\"dataframe\">\n",
       "  <thead>\n",
       "    <tr style=\"text-align: right;\">\n",
       "      <th></th>\n",
       "      <th>Unnamed: 0</th>\n",
       "      <th>Very interested</th>\n",
       "      <th>Somewhat interested</th>\n",
       "      <th>Not interested</th>\n",
       "    </tr>\n",
       "  </thead>\n",
       "  <tbody>\n",
       "    <tr>\n",
       "      <th>0</th>\n",
       "      <td>Big Data (Spark / Hadoop)</td>\n",
       "      <td>1332</td>\n",
       "      <td>729</td>\n",
       "      <td>127</td>\n",
       "    </tr>\n",
       "    <tr>\n",
       "      <th>1</th>\n",
       "      <td>Data Analysis / Statistics</td>\n",
       "      <td>1688</td>\n",
       "      <td>444</td>\n",
       "      <td>60</td>\n",
       "    </tr>\n",
       "    <tr>\n",
       "      <th>2</th>\n",
       "      <td>Data Journalism</td>\n",
       "      <td>429</td>\n",
       "      <td>1081</td>\n",
       "      <td>610</td>\n",
       "    </tr>\n",
       "    <tr>\n",
       "      <th>3</th>\n",
       "      <td>Data Visualization</td>\n",
       "      <td>1340</td>\n",
       "      <td>734</td>\n",
       "      <td>102</td>\n",
       "    </tr>\n",
       "    <tr>\n",
       "      <th>4</th>\n",
       "      <td>Deep Learning</td>\n",
       "      <td>1263</td>\n",
       "      <td>770</td>\n",
       "      <td>136</td>\n",
       "    </tr>\n",
       "  </tbody>\n",
       "</table>\n",
       "</div>"
      ],
      "text/plain": [
       "                   Unnamed: 0  Very interested  Somewhat interested  \\\n",
       "0   Big Data (Spark / Hadoop)             1332                  729   \n",
       "1  Data Analysis / Statistics             1688                  444   \n",
       "2             Data Journalism              429                 1081   \n",
       "3          Data Visualization             1340                  734   \n",
       "4               Deep Learning             1263                  770   \n",
       "\n",
       "   Not interested  \n",
       "0             127  \n",
       "1              60  \n",
       "2             610  \n",
       "3             102  \n",
       "4             136  "
      ]
     },
     "execution_count": 4,
     "metadata": {},
     "output_type": "execute_result"
    }
   ],
   "source": [
    "df.head()"
   ]
  },
  {
   "cell_type": "code",
   "execution_count": 5,
   "metadata": {},
   "outputs": [
    {
     "data": {
      "text/plain": [
       "(6, 4)"
      ]
     },
     "execution_count": 5,
     "metadata": {},
     "output_type": "execute_result"
    }
   ],
   "source": [
    "df.shape"
   ]
  },
  {
   "cell_type": "code",
   "execution_count": 6,
   "metadata": {},
   "outputs": [
    {
     "name": "stdout",
     "output_type": "stream",
     "text": [
      "<class 'pandas.core.frame.DataFrame'>\n",
      "RangeIndex: 6 entries, 0 to 5\n",
      "Data columns (total 4 columns):\n",
      " #   Column               Non-Null Count  Dtype \n",
      "---  ------               --------------  ----- \n",
      " 0   Unnamed: 0           6 non-null      object\n",
      " 1   Very interested      6 non-null      int64 \n",
      " 2   Somewhat interested  6 non-null      int64 \n",
      " 3   Not interested       6 non-null      int64 \n",
      "dtypes: int64(3), object(1)\n",
      "memory usage: 320.0+ bytes\n"
     ]
    }
   ],
   "source": [
    "df.info()"
   ]
  },
  {
   "cell_type": "code",
   "execution_count": 14,
   "metadata": {},
   "outputs": [],
   "source": [
    "plt.style.use('ggplot')\n",
    "df['Very interested'].sort_values(ascending=False)\n",
    "df['Very_interested_perc'] = round((df['Very interested']/2233)*100,2)\n",
    "df['SomeWhat_interested_perc'] = round((df['Somewhat interested']/2233)*100,2)\n",
    "df['Not_interested_perc'] = round((df['Very interested']/2233)*100,2)"
   ]
  },
  {
   "cell_type": "code",
   "execution_count": 15,
   "metadata": {},
   "outputs": [
    {
     "data": {
      "text/html": [
       "<div>\n",
       "<style scoped>\n",
       "    .dataframe tbody tr th:only-of-type {\n",
       "        vertical-align: middle;\n",
       "    }\n",
       "\n",
       "    .dataframe tbody tr th {\n",
       "        vertical-align: top;\n",
       "    }\n",
       "\n",
       "    .dataframe thead th {\n",
       "        text-align: right;\n",
       "    }\n",
       "</style>\n",
       "<table border=\"1\" class=\"dataframe\">\n",
       "  <thead>\n",
       "    <tr style=\"text-align: right;\">\n",
       "      <th></th>\n",
       "      <th>Unnamed: 0</th>\n",
       "      <th>Very interested</th>\n",
       "      <th>Somewhat interested</th>\n",
       "      <th>Not interested</th>\n",
       "      <th>Very_interested_perc</th>\n",
       "      <th>SomeWhat_interested_perc</th>\n",
       "      <th>Not_interested_perc</th>\n",
       "    </tr>\n",
       "  </thead>\n",
       "  <tbody>\n",
       "    <tr>\n",
       "      <th>0</th>\n",
       "      <td>Big Data (Spark / Hadoop)</td>\n",
       "      <td>1332</td>\n",
       "      <td>729</td>\n",
       "      <td>59.65</td>\n",
       "      <td>59.65</td>\n",
       "      <td>32.65</td>\n",
       "      <td>59.65</td>\n",
       "    </tr>\n",
       "    <tr>\n",
       "      <th>1</th>\n",
       "      <td>Data Analysis / Statistics</td>\n",
       "      <td>1688</td>\n",
       "      <td>444</td>\n",
       "      <td>75.59</td>\n",
       "      <td>75.59</td>\n",
       "      <td>19.88</td>\n",
       "      <td>75.59</td>\n",
       "    </tr>\n",
       "    <tr>\n",
       "      <th>2</th>\n",
       "      <td>Data Journalism</td>\n",
       "      <td>429</td>\n",
       "      <td>1081</td>\n",
       "      <td>19.21</td>\n",
       "      <td>19.21</td>\n",
       "      <td>48.41</td>\n",
       "      <td>19.21</td>\n",
       "    </tr>\n",
       "    <tr>\n",
       "      <th>3</th>\n",
       "      <td>Data Visualization</td>\n",
       "      <td>1340</td>\n",
       "      <td>734</td>\n",
       "      <td>60.01</td>\n",
       "      <td>60.01</td>\n",
       "      <td>32.87</td>\n",
       "      <td>60.01</td>\n",
       "    </tr>\n",
       "    <tr>\n",
       "      <th>4</th>\n",
       "      <td>Deep Learning</td>\n",
       "      <td>1263</td>\n",
       "      <td>770</td>\n",
       "      <td>56.56</td>\n",
       "      <td>56.56</td>\n",
       "      <td>34.48</td>\n",
       "      <td>56.56</td>\n",
       "    </tr>\n",
       "  </tbody>\n",
       "</table>\n",
       "</div>"
      ],
      "text/plain": [
       "                   Unnamed: 0  Very interested  Somewhat interested  \\\n",
       "0   Big Data (Spark / Hadoop)             1332                  729   \n",
       "1  Data Analysis / Statistics             1688                  444   \n",
       "2             Data Journalism              429                 1081   \n",
       "3          Data Visualization             1340                  734   \n",
       "4               Deep Learning             1263                  770   \n",
       "\n",
       "   Not interested  Very_interested_perc  SomeWhat_interested_perc  \\\n",
       "0           59.65                 59.65                     32.65   \n",
       "1           75.59                 75.59                     19.88   \n",
       "2           19.21                 19.21                     48.41   \n",
       "3           60.01                 60.01                     32.87   \n",
       "4           56.56                 56.56                     34.48   \n",
       "\n",
       "   Not_interested_perc  \n",
       "0                59.65  \n",
       "1                75.59  \n",
       "2                19.21  \n",
       "3                60.01  \n",
       "4                56.56  "
      ]
     },
     "execution_count": 15,
     "metadata": {},
     "output_type": "execute_result"
    }
   ],
   "source": [
    "df.head()"
   ]
  },
  {
   "cell_type": "code",
   "execution_count": null,
   "metadata": {},
   "outputs": [],
   "source": []
  },
  {
   "cell_type": "code",
   "execution_count": null,
   "metadata": {},
   "outputs": [],
   "source": []
  },
  {
   "cell_type": "code",
   "execution_count": 9,
   "metadata": {
    "scrolled": true
   },
   "outputs": [
    {
     "name": "stderr",
     "output_type": "stream",
     "text": [
      "<ipython-input-9-8e17e40a5006>:2: MatplotlibDeprecationWarning: Case-insensitive properties were deprecated in 3.3 and support will be removed two minor releases later\n",
      "  plt.bar(x=df['Unnamed: 0'],height=df['Very_interested_perc'],width=.8,color = '#5cb85c',Linewidth = 0.8)\n"
     ]
    },
    {
     "data": {
      "text/plain": [
       "<BarContainer object of 6 artists>"
      ]
     },
     "execution_count": 9,
     "metadata": {},
     "output_type": "execute_result"
    },
    {
     "data": {
      "image/png": "[encoded data removed]",
      "text/plain": [
       "<Figure size 1440x576 with 1 Axes>"
      ]
     },
     "metadata": {},
     "output_type": "display_data"
    }
   ],
   "source": [
    "plt.figure(figsize=(20,8))\n",
    "plt.bar(x=df['Unnamed: 0'],height=df['Very_interested_perc'],width=.8,color = '#5cb85c',Linewidth = 0.8)"
   ]
  },
  {
   "cell_type": "code",
   "execution_count": null,
   "metadata": {},
   "outputs": [],
   "source": []
  },
  {
   "cell_type": "code",
   "execution_count": null,
   "metadata": {},
   "outputs": [],
   "source": []
  },
  {
   "cell_type": "code",
   "execution_count": 18,
   "metadata": {},
   "outputs": [
    {
     "data": {
      "text/plain": [
       "<AxesSubplot:xlabel='Unnamed: 0'>"
      ]
     },
     "execution_count": 18,
     "metadata": {},
     "output_type": "execute_result"
    },
    {
     "data": {
      "text/plain": [
       "<Figure size 1440x576 with 0 Axes>"
      ]
     },
     "metadata": {},
     "output_type": "display_data"
    },
    {
     "data": {
      "image/png": "[encoded data removed]",
      "text/plain": [
       "<Figure size 432x288 with 1 Axes>"
      ]
     },
     "metadata": {},
     "output_type": "display_data"
    }
   ],
   "source": [
    "plt.figure(figsize=(20,8))\n",
    "pd.pivot_table(df[['Very interested','Somewhat interested','Not interested']],index =df['Unnamed: 0'],aggfunc = 'sum').plot(kind='bar')"
   ]
  },
  {
   "cell_type": "code",
   "execution_count": 17,
   "metadata": {
    "scrolled": true
   },
   "outputs": [
    {
     "data": {
      "text/plain": [
       "<AxesSubplot:xlabel='Unnamed: 0'>"
      ]
     },
     "execution_count": 17,
     "metadata": {},
     "output_type": "execute_result"
    },
    {
     "data": {
      "text/plain": [
       "<Figure size 1440x576 with 0 Axes>"
      ]
     },
     "metadata": {},
     "output_type": "display_data"
    },
    {
     "data": {
      "image/png": "[encoded data removed]",
      "text/plain": [
       "<Figure size 432x288 with 1 Axes>"
      ]
     },
     "metadata": {},
     "output_type": "display_data"
    }
   ],
   "source": [
    "plt.figure(figsize=(20,8))\n",
    "pd.pivot_table(df[['Very_interested_perc','SomeWhat_interested_perc','Not_interested_perc']],index =df['Unnamed: 0'],aggfunc = 'sum').plot(kind='bar')"
   ]
  },
  {
   "cell_type": "code",
   "execution_count": null,
   "metadata": {},
   "outputs": [],
   "source": []
  },
  {
   "cell_type": "code",
   "execution_count": null,
   "metadata": {},
   "outputs": [],
   "source": []
  }
 ],
 "metadata": {
  "kernelspec": {
   "display_name": "Python 3",
   "language": "python",
   "name": "python3"
  },
  "language_info": {
   "codemirror_mode": {
    "name": "ipython",
    "version": 3
   },
   "file_extension": ".py",
   "mimetype": "text/x-python",
   "name": "python",
   "nbconvert_exporter": "python",
   "pygments_lexer": "ipython3",
   "version": "3.8.5"
  }
 },
 "nbformat": 4,
 "nbformat_minor": 4
}
